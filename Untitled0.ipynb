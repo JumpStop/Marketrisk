{
 "metadata": {
  "name": "",
  "signature": "sha256:91f667df41e67902323bdcd8869e2cd3c9cb63ff7c6c494d8e372733a2f8ece5"
 },
 "nbformat": 3,
 "nbformat_minor": 0,
 "worksheets": [
  {
   "cells": [
    {
     "cell_type": "code",
     "collapsed": false,
     "input": [
      "from IPython.display import HTML\n",
      "from StringIO import StringIO\n",
      "import numpy as np\n",
      "import urllib2\n",
      "import bs4 #this is beautiful soup\n",
      "import requests\n",
      "\n",
      "from pandas import Series\n",
      "import pandas as pd\n",
      "from pandas import DataFrame\n",
      "\n",
      "import matplotlib\n",
      "import matplotlib.pyplot as plt\n",
      "%matplotlib inline\n",
      "\n",
      "import seaborn as sns\n",
      "import ast\n",
      "import re\n",
      "\n",
      "def getcsv (url):\n",
      "    csv = StringIO(requests.get(url).content)\n",
      "    file = pd.read_csv(csv)\n",
      "    return file\n",
      "\n",
      "import statsmodels.formula.api as smf"
     ],
     "language": "python",
     "metadata": {},
     "outputs": [],
     "prompt_number": 1
    },
    {
     "cell_type": "code",
     "collapsed": false,
     "input": [],
     "language": "python",
     "metadata": {},
     "outputs": []
    }
   ],
   "metadata": {}
  }
 ]
}