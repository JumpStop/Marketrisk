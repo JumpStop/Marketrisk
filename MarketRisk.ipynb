{
 "metadata": {
  "name": "",
  "signature": "sha256:054e26310c7e0f973e668767cc226eafe0e0d679bdb539fca427919815fc4736"
 },
 "nbformat": 3,
 "nbformat_minor": 0,
 "worksheets": [
  {
   "cells": [
    {
     "cell_type": "code",
     "collapsed": false,
     "input": [
      "from IPython.display import HTML\n",
      "from StringIO import StringIO\n",
      "import numpy as np\n",
      "import urllib2\n",
      "import bs4 #this is beautiful soup\n",
      "import requests\n",
      "\n",
      "from pandas import Series\n",
      "import pandas as pd\n",
      "from pandas import DataFrame\n",
      "\n",
      "import matplotlib\n",
      "import matplotlib.pyplot as plt\n",
      "%matplotlib inline\n",
      "\n",
      "import seaborn as sns\n",
      "import ast\n",
      "import re\n",
      "\n",
      "def getcsv (url):\n",
      "    csv = StringIO(requests.get(url).content)\n",
      "    file = pd.read_csv(csv)\n",
      "    return file\n",
      "\n",
      "import statsmodels.formula.api as smf"
     ],
     "language": "python",
     "metadata": {},
     "outputs": [],
     "prompt_number": 1
    },
    {
     "cell_type": "code",
     "collapsed": false,
     "input": [
      "stockscsv = \"https://raw.githubusercontent.com/JumpStop/Marketrisk/master/companylist.csv\"\n",
      "corps = getcsv(stockscsv)\n",
      "corps.head()"
     ],
     "language": "python",
     "metadata": {},
     "outputs": [
      {
       "html": [
        "<div style=\"max-height:1000px;max-width:1500px;overflow:auto;\">\n",
        "<table border=\"1\" class=\"dataframe\">\n",
        "  <thead>\n",
        "    <tr style=\"text-align: right;\">\n",
        "      <th></th>\n",
        "      <th>Symbol</th>\n",
        "      <th>Name</th>\n",
        "      <th>Cap</th>\n",
        "    </tr>\n",
        "  </thead>\n",
        "  <tbody>\n",
        "    <tr>\n",
        "      <th>0</th>\n",
        "      <td>  AAPL</td>\n",
        "      <td>              Apple Inc.</td>\n",
        "      <td> 691</td>\n",
        "    </tr>\n",
        "    <tr>\n",
        "      <th>1</th>\n",
        "      <td>   XOM</td>\n",
        "      <td> Exxon Mobil Corporation</td>\n",
        "      <td> 390</td>\n",
        "    </tr>\n",
        "    <tr>\n",
        "      <th>2</th>\n",
        "      <td> GOOGL</td>\n",
        "      <td>             Google Inc.</td>\n",
        "      <td> 361</td>\n",
        "    </tr>\n",
        "    <tr>\n",
        "      <th>3</th>\n",
        "      <td>  GOOG</td>\n",
        "      <td>             Google Inc.</td>\n",
        "      <td> 359</td>\n",
        "    </tr>\n",
        "    <tr>\n",
        "      <th>4</th>\n",
        "      <td>  MSFT</td>\n",
        "      <td>   Microsoft Corporation</td>\n",
        "      <td> 341</td>\n",
        "    </tr>\n",
        "  </tbody>\n",
        "</table>\n",
        "</div>"
       ],
       "metadata": {},
       "output_type": "pyout",
       "prompt_number": 3,
       "text": [
        "  Symbol                     Name  Cap\n",
        "0   AAPL               Apple Inc.  691\n",
        "1    XOM  Exxon Mobil Corporation  390\n",
        "2  GOOGL              Google Inc.  361\n",
        "3   GOOG              Google Inc.  359\n",
        "4   MSFT    Microsoft Corporation  341"
       ]
      }
     ],
     "prompt_number": 3
    },
    {
     "cell_type": "code",
     "collapsed": false,
     "input": [
      "corpset = corps[corps[\"Cap\"]>60]\n",
      "corpset.shape"
     ],
     "language": "python",
     "metadata": {},
     "outputs": [
      {
       "metadata": {},
       "output_type": "pyout",
       "prompt_number": 55,
       "text": [
        "(119, 3)"
       ]
      }
     ],
     "prompt_number": 55
    },
    {
     "cell_type": "code",
     "collapsed": false,
     "input": [
      "corplist=list(corpset.Symbol)"
     ],
     "language": "python",
     "metadata": {},
     "outputs": [],
     "prompt_number": 56
    },
    {
     "cell_type": "code",
     "collapsed": false,
     "input": [
      "EOD_urls = []\n",
      "EODRef = {}\n",
      "urlhead=\"http://ichart.finance.yahoo.com/table.csv?s=\"\n",
      "urltail=\"&d=3&e=23&f=2016&g=d&a=3&b=12&c=2009&ignore=.csv\"\n",
      "for corp in corplist:\n",
      "    corpurl = urlhead+corp+urltail\n",
      "    print corpurl\n",
      "    EOD_urls.append(corpurl)\n",
      "    tempdf = getcsv(corpurl).ix[:,range(1,2)+range(4,5)]\n",
      "    tempdf[\"change\"]=tempdf.Close-tempdf.Open\n",
      "    tempdf[\"percent\"]=tempdf.change/tempdf.Open*100\n",
      "    EODRef[corp]=tempdf\n",
      "\n",
      "EODRef[\"AAPL\"]\n"
     ],
     "language": "python",
     "metadata": {},
     "outputs": [
      {
       "output_type": "stream",
       "stream": "stdout",
       "text": [
        "http://ichart.finance.yahoo.com/table.csv?s=AAPL&d=3&e=23&f=2016&g=d&a=3&b=12&c=2009&ignore=.csv\n",
        "http://ichart.finance.yahoo.com/table.csv?s=XOM&d=3&e=23&f=2016&g=d&a=3&b=12&c=2009&ignore=.csv"
       ]
      },
      {
       "output_type": "stream",
       "stream": "stdout",
       "text": [
        "\n",
        "http://ichart.finance.yahoo.com/table.csv?s=GOOGL&d=3&e=23&f=2016&g=d&a=3&b=12&c=2009&ignore=.csv"
       ]
      },
      {
       "output_type": "stream",
       "stream": "stdout",
       "text": [
        "\n",
        "http://ichart.finance.yahoo.com/table.csv?s=GOOG&d=3&e=23&f=2016&g=d&a=3&b=12&c=2009&ignore=.csv"
       ]
      },
      {
       "output_type": "stream",
       "stream": "stdout",
       "text": [
        "\n",
        "http://ichart.finance.yahoo.com/table.csv?s=MSFT&d=3&e=23&f=2016&g=d&a=3&b=12&c=2009&ignore=.csv"
       ]
      },
      {
       "output_type": "stream",
       "stream": "stdout",
       "text": [
        "\n",
        "http://ichart.finance.yahoo.com/table.csv?s=JNJ&d=3&e=23&f=2016&g=d&a=3&b=12&c=2009&ignore=.csv"
       ]
      },
      {
       "output_type": "stream",
       "stream": "stdout",
       "text": [
        "\n",
        "http://ichart.finance.yahoo.com/table.csv?s=WMT&d=3&e=23&f=2016&g=d&a=3&b=12&c=2009&ignore=.csv"
       ]
      },
      {
       "output_type": "stream",
       "stream": "stdout",
       "text": [
        "\n",
        "http://ichart.finance.yahoo.com/table.csv?s=WFC&d=3&e=23&f=2016&g=d&a=3&b=12&c=2009&ignore=.csv"
       ]
      },
      {
       "output_type": "stream",
       "stream": "stdout",
       "text": [
        "\n",
        "http://ichart.finance.yahoo.com/table.csv?s=GE&d=3&e=23&f=2016&g=d&a=3&b=12&c=2009&ignore=.csv"
       ]
      },
      {
       "output_type": "stream",
       "stream": "stdout",
       "text": [
        "\n",
        "http://ichart.finance.yahoo.com/table.csv?s=NVS&d=3&e=23&f=2016&g=d&a=3&b=12&c=2009&ignore=.csv"
       ]
      },
      {
       "output_type": "stream",
       "stream": "stdout",
       "text": [
        "\n",
        "http://ichart.finance.yahoo.com/table.csv?s=BABA&d=3&e=23&f=2016&g=d&a=3&b=12&c=2009&ignore=.csv"
       ]
      },
      {
       "output_type": "stream",
       "stream": "stdout",
       "text": [
        "\n",
        "http://ichart.finance.yahoo.com/table.csv?s=JPM&d=3&e=23&f=2016&g=d&a=3&b=12&c=2009&ignore=.csv"
       ]
      },
      {
       "output_type": "stream",
       "stream": "stdout",
       "text": [
        "\n",
        "http://ichart.finance.yahoo.com/table.csv?s=FB&d=3&e=23&f=2016&g=d&a=3&b=12&c=2009&ignore=.csv"
       ]
      },
      {
       "output_type": "stream",
       "stream": "stdout",
       "text": [
        "\n",
        "http://ichart.finance.yahoo.com/table.csv?s=PTR&d=3&e=23&f=2016&g=d&a=3&b=12&c=2009&ignore=.csv"
       ]
      },
      {
       "output_type": "stream",
       "stream": "stdout",
       "text": [
        "\n",
        "http://ichart.finance.yahoo.com/table.csv?s=CVX&d=3&e=23&f=2016&g=d&a=3&b=12&c=2009&ignore=.csv"
       ]
      },
      {
       "output_type": "stream",
       "stream": "stdout",
       "text": [
        "\n",
        "http://ichart.finance.yahoo.com/table.csv?s=TM&d=3&e=23&f=2016&g=d&a=3&b=12&c=2009&ignore=.csv"
       ]
      },
      {
       "output_type": "stream",
       "stream": "stdout",
       "text": [
        "\n",
        "http://ichart.finance.yahoo.com/table.csv?s=BUD&d=3&e=23&f=2016&g=d&a=3&b=12&c=2009&ignore=.csv"
       ]
      },
      {
       "output_type": "stream",
       "stream": "stdout",
       "text": [
        "\n",
        "http://ichart.finance.yahoo.com/table.csv?s=PFE&d=3&e=23&f=2016&g=d&a=3&b=12&c=2009&ignore=.csv"
       ]
      },
      {
       "output_type": "stream",
       "stream": "stdout",
       "text": [
        "\n",
        "http://ichart.finance.yahoo.com/table.csv?s=VZ&d=3&e=23&f=2016&g=d&a=3&b=12&c=2009&ignore=.csv"
       ]
      },
      {
       "output_type": "stream",
       "stream": "stdout",
       "text": [
        "\n",
        "http://ichart.finance.yahoo.com/table.csv?s=V&d=3&e=23&f=2016&g=d&a=3&b=12&c=2009&ignore=.csv"
       ]
      },
      {
       "output_type": "stream",
       "stream": "stdout",
       "text": [
        "\n",
        "http://ichart.finance.yahoo.com/table.csv?s=ORCL&d=3&e=23&f=2016&g=d&a=3&b=12&c=2009&ignore=.csv"
       ]
      },
      {
       "output_type": "stream",
       "stream": "stdout",
       "text": [
        "\n",
        "http://ichart.finance.yahoo.com/table.csv?s=KO&d=3&e=23&f=2016&g=d&a=3&b=12&c=2009&ignore=.csv"
       ]
      },
      {
       "output_type": "stream",
       "stream": "stdout",
       "text": [
        "\n",
        "http://ichart.finance.yahoo.com/table.csv?s=HSBC&d=3&e=23&f=2016&g=d&a=3&b=12&c=2009&ignore=.csv"
       ]
      },
      {
       "output_type": "stream",
       "stream": "stdout",
       "text": [
        "\n",
        "http://ichart.finance.yahoo.com/table.csv?s=T&d=3&e=23&f=2016&g=d&a=3&b=12&c=2009&ignore=.csv"
       ]
      },
      {
       "output_type": "stream",
       "stream": "stdout",
       "text": [
        "\n",
        "http://ichart.finance.yahoo.com/table.csv?s=MRK&d=3&e=23&f=2016&g=d&a=3&b=12&c=2009&ignore=.csv"
       ]
      },
      {
       "output_type": "stream",
       "stream": "stdout",
       "text": [
        "\n",
        "http://ichart.finance.yahoo.com/table.csv?s=AMZN&d=3&e=23&f=2016&g=d&a=3&b=12&c=2009&ignore=.csv"
       ]
      },
      {
       "output_type": "stream",
       "stream": "stdout",
       "text": [
        "\n",
        "http://ichart.finance.yahoo.com/table.csv?s=BAC&d=3&e=23&f=2016&g=d&a=3&b=12&c=2009&ignore=.csv"
       ]
      },
      {
       "output_type": "stream",
       "stream": "stdout",
       "text": [
        "\n",
        "http://ichart.finance.yahoo.com/table.csv?s=INTC&d=3&e=23&f=2016&g=d&a=3&b=12&c=2009&ignore=.csv"
       ]
      },
      {
       "output_type": "stream",
       "stream": "stdout",
       "text": [
        "\n",
        "http://ichart.finance.yahoo.com/table.csv?s=GILD&d=3&e=23&f=2016&g=d&a=3&b=12&c=2009&ignore=.csv"
       ]
      },
      {
       "output_type": "stream",
       "stream": "stdout",
       "text": [
        "\n",
        "http://ichart.finance.yahoo.com/table.csv?s=DIS&d=3&e=23&f=2016&g=d&a=3&b=12&c=2009&ignore=.csv"
       ]
      },
      {
       "output_type": "stream",
       "stream": "stdout",
       "text": [
        "\n",
        "http://ichart.finance.yahoo.com/table.csv?s=IBM&d=3&e=23&f=2016&g=d&a=3&b=12&c=2009&ignore=.csv"
       ]
      },
      {
       "output_type": "stream",
       "stream": "stdout",
       "text": [
        "\n",
        "http://ichart.finance.yahoo.com/table.csv?s=C&d=3&e=23&f=2016&g=d&a=3&b=12&c=2009&ignore=.csv"
       ]
      },
      {
       "output_type": "stream",
       "stream": "stdout",
       "text": [
        "\n",
        "http://ichart.finance.yahoo.com/table.csv?s=CMCSA&d=3&e=23&f=2016&g=d&a=3&b=12&c=2009&ignore=.csv"
       ]
      },
      {
       "output_type": "stream",
       "stream": "stdout",
       "text": [
        "\n",
        "http://ichart.finance.yahoo.com/table.csv?s=PEP&d=3&e=23&f=2016&g=d&a=3&b=12&c=2009&ignore=.csv"
       ]
      },
      {
       "output_type": "stream",
       "stream": "stdout",
       "text": [
        "\n",
        "http://ichart.finance.yahoo.com/table.csv?s=CMCSK&d=3&e=23&f=2016&g=d&a=3&b=12&c=2009&ignore=.csv"
       ]
      },
      {
       "output_type": "stream",
       "stream": "stdout",
       "text": [
        "\n",
        "http://ichart.finance.yahoo.com/table.csv?s=HD&d=3&e=23&f=2016&g=d&a=3&b=12&c=2009&ignore=.csv"
       ]
      },
      {
       "output_type": "stream",
       "stream": "stdout",
       "text": [
        "\n",
        "http://ichart.finance.yahoo.com/table.csv?s=CSCO&d=3&e=23&f=2016&g=d&a=3&b=12&c=2009&ignore=.csv"
       ]
      },
      {
       "output_type": "stream",
       "stream": "stdout",
       "text": [
        "\n",
        "http://ichart.finance.yahoo.com/table.csv?s=BHP&d=3&e=23&f=2016&g=d&a=3&b=12&c=2009&ignore=.csv"
       ]
      },
      {
       "output_type": "stream",
       "stream": "stdout",
       "text": [
        "\n",
        "http://ichart.finance.yahoo.com/table.csv?s=UL&d=3&e=23&f=2016&g=d&a=3&b=12&c=2009&ignore=.csv"
       ]
      },
      {
       "output_type": "stream",
       "stream": "stdout",
       "text": [
        "\n",
        "http://ichart.finance.yahoo.com/table.csv?s=UN&d=3&e=23&f=2016&g=d&a=3&b=12&c=2009&ignore=.csv"
       ]
      },
      {
       "output_type": "stream",
       "stream": "stdout",
       "text": [
        "\n",
        "http://ichart.finance.yahoo.com/table.csv?s=PM&d=3&e=23&f=2016&g=d&a=3&b=12&c=2009&ignore=.csv"
       ]
      },
      {
       "output_type": "stream",
       "stream": "stdout",
       "text": [
        "\n",
        "http://ichart.finance.yahoo.com/table.csv?s=BBL&d=3&e=23&f=2016&g=d&a=3&b=12&c=2009&ignore=.csv"
       ]
      },
      {
       "output_type": "stream",
       "stream": "stdout",
       "text": [
        "\n",
        "http://ichart.finance.yahoo.com/table.csv?s=TOT&d=3&e=23&f=2016&g=d&a=3&b=12&c=2009&ignore=.csv"
       ]
      },
      {
       "output_type": "stream",
       "stream": "stdout",
       "text": [
        "\n",
        "http://ichart.finance.yahoo.com/table.csv?s=BP&d=3&e=23&f=2016&g=d&a=3&b=12&c=2009&ignore=.csv"
       ]
      },
      {
       "output_type": "stream",
       "stream": "stdout",
       "text": [
        "\n",
        "http://ichart.finance.yahoo.com/table.csv?s=NVO&d=3&e=23&f=2016&g=d&a=3&b=12&c=2009&ignore=.csv"
       ]
      },
      {
       "output_type": "stream",
       "stream": "stdout",
       "text": [
        "\n",
        "http://ichart.finance.yahoo.com/table.csv?s=SNY&d=3&e=23&f=2016&g=d&a=3&b=12&c=2009&ignore=.csv"
       ]
      },
      {
       "output_type": "stream",
       "stream": "stdout",
       "text": [
        "\n",
        "http://ichart.finance.yahoo.com/table.csv?s=TSM&d=3&e=23&f=2016&g=d&a=3&b=12&c=2009&ignore=.csv"
       ]
      },
      {
       "output_type": "stream",
       "stream": "stdout",
       "text": [
        "\n",
        "http://ichart.finance.yahoo.com/table.csv?s=AMGN&d=3&e=23&f=2016&g=d&a=3&b=12&c=2009&ignore=.csv"
       ]
      },
      {
       "output_type": "stream",
       "stream": "stdout",
       "text": [
        "\n",
        "http://ichart.finance.yahoo.com/table.csv?s=LFC&d=3&e=23&f=2016&g=d&a=3&b=12&c=2009&ignore=.csv"
       ]
      },
      {
       "output_type": "stream",
       "stream": "stdout",
       "text": [
        "\n",
        "http://ichart.finance.yahoo.com/table.csv?s=CVS&d=3&e=23&f=2016&g=d&a=3&b=12&c=2009&ignore=.csv"
       ]
      },
      {
       "output_type": "stream",
       "stream": "stdout",
       "text": [
        "\n",
        "http://ichart.finance.yahoo.com/table.csv?s=SLB&d=3&e=23&f=2016&g=d&a=3&b=12&c=2009&ignore=.csv"
       ]
      },
      {
       "output_type": "stream",
       "stream": "stdout",
       "text": [
        "\n",
        "http://ichart.finance.yahoo.com/table.csv?s=QCOM&d=3&e=23&f=2016&g=d&a=3&b=12&c=2009&ignore=.csv"
       ]
      },
      {
       "output_type": "stream",
       "stream": "stdout",
       "text": [
        "\n",
        "http://ichart.finance.yahoo.com/table.csv?s=UNP&d=3&e=23&f=2016&g=d&a=3&b=12&c=2009&ignore=.csv"
       ]
      },
      {
       "output_type": "stream",
       "stream": "stdout",
       "text": [
        "\n",
        "http://ichart.finance.yahoo.com/table.csv?s=UTX&d=3&e=23&f=2016&g=d&a=3&b=12&c=2009&ignore=.csv"
       ]
      },
      {
       "output_type": "stream",
       "stream": "stdout",
       "text": [
        "\n",
        "http://ichart.finance.yahoo.com/table.csv?s=MO&d=3&e=23&f=2016&g=d&a=3&b=12&c=2009&ignore=.csv"
       ]
      },
      {
       "output_type": "stream",
       "stream": "stdout",
       "text": [
        "\n",
        "http://ichart.finance.yahoo.com/table.csv?s=GSK&d=3&e=23&f=2016&g=d&a=3&b=12&c=2009&ignore=.csv"
       ]
      },
      {
       "output_type": "stream",
       "stream": "stdout",
       "text": [
        "\n",
        "http://ichart.finance.yahoo.com/table.csv?s=BA&d=3&e=23&f=2016&g=d&a=3&b=12&c=2009&ignore=.csv"
       ]
      },
      {
       "output_type": "stream",
       "stream": "stdout",
       "text": [
        "\n",
        "http://ichart.finance.yahoo.com/table.csv?s=UNH&d=3&e=23&f=2016&g=d&a=3&b=12&c=2009&ignore=.csv"
       ]
      },
      {
       "output_type": "stream",
       "stream": "stdout",
       "text": [
        "\n",
        "http://ichart.finance.yahoo.com/table.csv?s=ABEV&d=3&e=23&f=2016&g=d&a=3&b=12&c=2009&ignore=.csv"
       ]
      },
      {
       "output_type": "stream",
       "stream": "stdout",
       "text": [
        "\n",
        "http://ichart.finance.yahoo.com/table.csv?s=BMY&d=3&e=23&f=2016&g=d&a=3&b=12&c=2009&ignore=.csv"
       ]
      },
      {
       "output_type": "stream",
       "stream": "stdout",
       "text": [
        "\n",
        "http://ichart.finance.yahoo.com/table.csv?s=ABBV&d=3&e=23&f=2016&g=d&a=3&b=12&c=2009&ignore=.csv"
       ]
      },
      {
       "output_type": "stream",
       "stream": "stdout",
       "text": [
        "\n",
        "http://ichart.finance.yahoo.com/table.csv?s=VOD&d=3&e=23&f=2016&g=d&a=3&b=12&c=2009&ignore=.csv"
       ]
      },
      {
       "output_type": "stream",
       "stream": "stdout",
       "text": [
        "\n",
        "http://ichart.finance.yahoo.com/table.csv?s=SNP&d=3&e=23&f=2016&g=d&a=3&b=12&c=2009&ignore=.csv"
       ]
      },
      {
       "output_type": "stream",
       "stream": "stdout",
       "text": [
        "\n",
        "http://ichart.finance.yahoo.com/table.csv?s=CELG&d=3&e=23&f=2016&g=d&a=3&b=12&c=2009&ignore=.csv"
       ]
      },
      {
       "output_type": "stream",
       "stream": "stdout",
       "text": [
        "\n",
        "http://ichart.finance.yahoo.com/table.csv?s=BIIB&d=3&e=23&f=2016&g=d&a=3&b=12&c=2009&ignore=.csv"
       ]
      },
      {
       "output_type": "stream",
       "stream": "stdout",
       "text": [
        "\n",
        "http://ichart.finance.yahoo.com/table.csv?s=MCD&d=3&e=23&f=2016&g=d&a=3&b=12&c=2009&ignore=.csv"
       ]
      },
      {
       "output_type": "stream",
       "stream": "stdout",
       "text": [
        "\n",
        "http://ichart.finance.yahoo.com/table.csv?s=UPS&d=3&e=23&f=2016&g=d&a=3&b=12&c=2009&ignore=.csv"
       ]
      },
      {
       "output_type": "stream",
       "stream": "stdout",
       "text": [
        "\n",
        "http://ichart.finance.yahoo.com/table.csv?s=AZN&d=3&e=23&f=2016&g=d&a=3&b=12&c=2009&ignore=.csv"
       ]
      },
      {
       "output_type": "stream",
       "stream": "stdout",
       "text": [
        "\n",
        "http://ichart.finance.yahoo.com/table.csv?s=KMI&d=3&e=23&f=2016&g=d&a=3&b=12&c=2009&ignore=.csv"
       ]
      },
      {
       "output_type": "stream",
       "stream": "stdout",
       "text": [
        "\n",
        "http://ichart.finance.yahoo.com/table.csv?s=RIO&d=3&e=23&f=2016&g=d&a=3&b=12&c=2009&ignore=.csv"
       ]
      },
      {
       "output_type": "stream",
       "stream": "stdout",
       "text": [
        "\n",
        "http://ichart.finance.yahoo.com/table.csv?s=RY&d=3&e=23&f=2016&g=d&a=3&b=12&c=2009&ignore=.csv"
       ]
      },
      {
       "output_type": "stream",
       "stream": "stdout",
       "text": [
        "\n",
        "http://ichart.finance.yahoo.com/table.csv?s=WBK&d=3&e=23&f=2016&g=d&a=3&b=12&c=2009&ignore=.csv"
       ]
      },
      {
       "output_type": "stream",
       "stream": "stdout",
       "text": [
        "\n",
        "http://ichart.finance.yahoo.com/table.csv?s=AXP&d=3&e=23&f=2016&g=d&a=3&b=12&c=2009&ignore=.csv"
       ]
      },
      {
       "output_type": "stream",
       "stream": "stdout",
       "text": [
        "\n",
        "http://ichart.finance.yahoo.com/table.csv?s=SAN&d=3&e=23&f=2016&g=d&a=3&b=12&c=2009&ignore=.csv"
       ]
      },
      {
       "output_type": "stream",
       "stream": "stdout",
       "text": [
        "\n",
        "http://ichart.finance.yahoo.com/table.csv?s=COP&d=3&e=23&f=2016&g=d&a=3&b=12&c=2009&ignore=.csv"
       ]
      },
      {
       "output_type": "stream",
       "stream": "stdout",
       "text": [
        "\n",
        "http://ichart.finance.yahoo.com/table.csv?s=LYG&d=3&e=23&f=2016&g=d&a=3&b=12&c=2009&ignore=.csv"
       ]
      },
      {
       "output_type": "stream",
       "stream": "stdout",
       "text": [
        "\n",
        "http://ichart.finance.yahoo.com/table.csv?s=SAP&d=3&e=23&f=2016&g=d&a=3&b=12&c=2009&ignore=.csv"
       ]
      },
      {
       "output_type": "stream",
       "stream": "stdout",
       "text": [
        "\n",
        "http://ichart.finance.yahoo.com/table.csv?s=NKE&d=3&e=23&f=2016&g=d&a=3&b=12&c=2009&ignore=.csv"
       ]
      },
      {
       "output_type": "stream",
       "stream": "stdout",
       "text": [
        "\n",
        "http://ichart.finance.yahoo.com/table.csv?s=HON&d=3&e=23&f=2016&g=d&a=3&b=12&c=2009&ignore=.csv"
       ]
      },
      {
       "output_type": "stream",
       "stream": "stdout",
       "text": [
        "\n",
        "http://ichart.finance.yahoo.com/table.csv?s=LLY&d=3&e=23&f=2016&g=d&a=3&b=12&c=2009&ignore=.csv"
       ]
      },
      {
       "output_type": "stream",
       "stream": "stdout",
       "text": [
        "\n",
        "http://ichart.finance.yahoo.com/table.csv?s=GS&d=3&e=23&f=2016&g=d&a=3&b=12&c=2009&ignore=.csv"
       ]
      },
      {
       "output_type": "stream",
       "stream": "stdout",
       "text": [
        "\n",
        "http://ichart.finance.yahoo.com/table.csv?s=TD&d=3&e=23&f=2016&g=d&a=3&b=12&c=2009&ignore=.csv"
       ]
      },
      {
       "output_type": "stream",
       "stream": "stdout",
       "text": [
        "\n",
        "http://ichart.finance.yahoo.com/table.csv?s=USB&d=3&e=23&f=2016&g=d&a=3&b=12&c=2009&ignore=.csv"
       ]
      },
      {
       "output_type": "stream",
       "stream": "stdout",
       "text": [
        "\n",
        "http://ichart.finance.yahoo.com/table.csv?s=BIDU&d=3&e=23&f=2016&g=d&a=3&b=12&c=2009&ignore=.csv"
       ]
      },
      {
       "output_type": "stream",
       "stream": "stdout",
       "text": [
        "\n",
        "http://ichart.finance.yahoo.com/table.csv?s=K&d=3&e=23&f=2016&g=d&a=3&b=12&c=2009&ignore=.csv"
       ]
      },
      {
       "output_type": "stream",
       "stream": "stdout",
       "text": [
        "\n",
        "http://ichart.finance.yahoo.com/table.csv?s=MTU&d=3&e=23&f=2016&g=d&a=3&b=12&c=2009&ignore=.csv"
       ]
      },
      {
       "output_type": "stream",
       "stream": "stdout",
       "text": [
        "\n",
        "http://ichart.finance.yahoo.com/table.csv?s=AMOV&d=3&e=23&f=2016&g=d&a=3&b=12&c=2009&ignore=.csv"
       ]
      },
      {
       "output_type": "stream",
       "stream": "stdout",
       "text": [
        "\n",
        "http://ichart.finance.yahoo.com/table.csv?s=AMX&d=3&e=23&f=2016&g=d&a=3&b=12&c=2009&ignore=.csv"
       ]
      },
      {
       "output_type": "stream",
       "stream": "stdout",
       "text": [
        "\n",
        "http://ichart.finance.yahoo.com/table.csv?s=DEO&d=3&e=23&f=2016&g=d&a=3&b=12&c=2009&ignore=.csv"
       ]
      },
      {
       "output_type": "stream",
       "stream": "stdout",
       "text": [
        "\n",
        "http://ichart.finance.yahoo.com/table.csv?s=MDT&d=3&e=23&f=2016&g=d&a=3&b=12&c=2009&ignore=.csv"
       ]
      },
      {
       "output_type": "stream",
       "stream": "stdout",
       "text": [
        "\n",
        "http://ichart.finance.yahoo.com/table.csv?s=FOX&d=3&e=23&f=2016&g=d&a=3&b=12&c=2009&ignore=.csv"
       ]
      },
      {
       "output_type": "stream",
       "stream": "stdout",
       "text": [
        "\n",
        "http://ichart.finance.yahoo.com/table.csv?s=ACT&d=3&e=23&f=2016&g=d&a=3&b=12&c=2009&ignore=.csv"
       ]
      },
      {
       "output_type": "stream",
       "stream": "stdout",
       "text": [
        "\n",
        "http://ichart.finance.yahoo.com/table.csv?s=AIG&d=3&e=23&f=2016&g=d&a=3&b=12&c=2009&ignore=.csv"
       ]
      },
      {
       "output_type": "stream",
       "stream": "stdout",
       "text": [
        "\n",
        "http://ichart.finance.yahoo.com/table.csv?s=WBA&d=3&e=23&f=2016&g=d&a=3&b=12&c=2009&ignore=.csv"
       ]
      },
      {
       "output_type": "stream",
       "stream": "stdout",
       "text": [
        "\n",
        "http://ichart.finance.yahoo.com/table.csv?s=ABT&d=3&e=23&f=2016&g=d&a=3&b=12&c=2009&ignore=.csv"
       ]
      },
      {
       "output_type": "stream",
       "stream": "stdout",
       "text": [
        "\n",
        "http://ichart.finance.yahoo.com/table.csv?s=HPQ&d=3&e=23&f=2016&g=d&a=3&b=12&c=2009&ignore=.csv"
       ]
      },
      {
       "output_type": "stream",
       "stream": "stdout",
       "text": [
        "\n",
        "http://ichart.finance.yahoo.com/table.csv?s=ITUB&d=3&e=23&f=2016&g=d&a=3&b=12&c=2009&ignore=.csv"
       ]
      },
      {
       "output_type": "stream",
       "stream": "stdout",
       "text": [
        "\n",
        "http://ichart.finance.yahoo.com/table.csv?s=TEF&d=3&e=23&f=2016&g=d&a=3&b=12&c=2009&ignore=.csv"
       ]
      },
      {
       "output_type": "stream",
       "stream": "stdout",
       "text": [
        "\n",
        "http://ichart.finance.yahoo.com/table.csv?s=EPD&d=3&e=23&f=2016&g=d&a=3&b=12&c=2009&ignore=.csv"
       ]
      },
      {
       "output_type": "stream",
       "stream": "stdout",
       "text": [
        "\n",
        "http://ichart.finance.yahoo.com/table.csv?s=MS&d=3&e=23&f=2016&g=d&a=3&b=12&c=2009&ignore=.csv"
       ]
      },
      {
       "output_type": "stream",
       "stream": "stdout",
       "text": [
        "\n",
        "http://ichart.finance.yahoo.com/table.csv?s=COST&d=3&e=23&f=2016&g=d&a=3&b=12&c=2009&ignore=.csv"
       ]
      },
      {
       "output_type": "stream",
       "stream": "stdout",
       "text": [
        "\n",
        "http://ichart.finance.yahoo.com/table.csv?s=EBAY&d=3&e=23&f=2016&g=d&a=3&b=12&c=2009&ignore=.csv"
       ]
      },
      {
       "output_type": "stream",
       "stream": "stdout",
       "text": [
        "\n",
        "http://ichart.finance.yahoo.com/table.csv?s=LOW&d=3&e=23&f=2016&g=d&a=3&b=12&c=2009&ignore=.csv"
       ]
      },
      {
       "output_type": "stream",
       "stream": "stdout",
       "text": [
        "\n",
        "http://ichart.finance.yahoo.com/table.csv?s=TWX&d=3&e=23&f=2016&g=d&a=3&b=12&c=2009&ignore=.csv"
       ]
      },
      {
       "output_type": "stream",
       "stream": "stdout",
       "text": [
        "\n",
        "http://ichart.finance.yahoo.com/table.csv?s=SBUX&d=3&e=23&f=2016&g=d&a=3&b=12&c=2009&ignore=.csv"
       ]
      },
      {
       "output_type": "stream",
       "stream": "stdout",
       "text": [
        "\n",
        "http://ichart.finance.yahoo.com/table.csv?s=DD&d=3&e=23&f=2016&g=d&a=3&b=12&c=2009&ignore=.csv"
       ]
      },
      {
       "output_type": "stream",
       "stream": "stdout",
       "text": [
        "\n",
        "http://ichart.finance.yahoo.com/table.csv?s=NTT&d=3&e=23&f=2016&g=d&a=3&b=12&c=2009&ignore=.csv"
       ]
      },
      {
       "output_type": "stream",
       "stream": "stdout",
       "text": [
        "\n",
        "http://ichart.finance.yahoo.com/table.csv?s=DCM&d=3&e=23&f=2016&g=d&a=3&b=12&c=2009&ignore=.csv"
       ]
      },
      {
       "output_type": "stream",
       "stream": "stdout",
       "text": [
        "\n",
        "http://ichart.finance.yahoo.com/table.csv?s=AGN&d=3&e=23&f=2016&g=d&a=3&b=12&c=2009&ignore=.csv"
       ]
      },
      {
       "output_type": "stream",
       "stream": "stdout",
       "text": [
        "\n",
        "http://ichart.finance.yahoo.com/table.csv?s=E&d=3&e=23&f=2016&g=d&a=3&b=12&c=2009&ignore=.csv"
       ]
      },
      {
       "output_type": "stream",
       "stream": "stdout",
       "text": [
        "\n",
        "http://ichart.finance.yahoo.com/table.csv?s=RBS&d=3&e=23&f=2016&g=d&a=3&b=12&c=2009&ignore=.csv"
       ]
      },
      {
       "output_type": "stream",
       "stream": "stdout",
       "text": [
        "\n",
        "http://ichart.finance.yahoo.com/table.csv?s=PUK&d=3&e=23&f=2016&g=d&a=3&b=12&c=2009&ignore=.csv"
       ]
      },
      {
       "output_type": "stream",
       "stream": "stdout",
       "text": [
        "\n",
        "http://ichart.finance.yahoo.com/table.csv?s=CL&d=3&e=23&f=2016&g=d&a=3&b=12&c=2009&ignore=.csv"
       ]
      },
      {
       "output_type": "stream",
       "stream": "stdout",
       "text": [
        "\n",
        "http://ichart.finance.yahoo.com/table.csv?s=OXY&d=3&e=23&f=2016&g=d&a=3&b=12&c=2009&ignore=.csv"
       ]
      },
      {
       "output_type": "stream",
       "stream": "stdout",
       "text": [
        "\n",
        "http://ichart.finance.yahoo.com/table.csv?s=UBS&d=3&e=23&f=2016&g=d&a=3&b=12&c=2009&ignore=.csv"
       ]
      },
      {
       "output_type": "stream",
       "stream": "stdout",
       "text": [
        "\n",
        "http://ichart.finance.yahoo.com/table.csv?s=BNS&d=3&e=23&f=2016&g=d&a=3&b=12&c=2009&ignore=.csv"
       ]
      },
      {
       "output_type": "stream",
       "stream": "stdout",
       "text": [
        "\n",
        "http://ichart.finance.yahoo.com/table.csv?s=BCS&d=3&e=23&f=2016&g=d&a=3&b=12&c=2009&ignore=.csv"
       ]
      },
      {
       "output_type": "stream",
       "stream": "stdout",
       "text": [
        "\n",
        "http://ichart.finance.yahoo.com/table.csv?s=SPG&d=3&e=23&f=2016&g=d&a=3&b=12&c=2009&ignore=.csv"
       ]
      },
      {
       "output_type": "stream",
       "stream": "stdout",
       "text": [
        "\n",
        "http://ichart.finance.yahoo.com/table.csv?s=DUK&d=3&e=23&f=2016&g=d&a=3&b=12&c=2009&ignore=.csv"
       ]
      },
      {
       "output_type": "stream",
       "stream": "stdout",
       "text": [
        "\n"
       ]
      },
      {
       "html": [
        "<div style=\"max-height:1000px;max-width:1500px;overflow:auto;\">\n",
        "<table border=\"1\" class=\"dataframe\">\n",
        "  <thead>\n",
        "    <tr style=\"text-align: right;\">\n",
        "      <th></th>\n",
        "      <th>Open</th>\n",
        "      <th>Close</th>\n",
        "      <th>change</th>\n",
        "      <th>percent</th>\n",
        "    </tr>\n",
        "  </thead>\n",
        "  <tbody>\n",
        "    <tr>\n",
        "      <th>0   </th>\n",
        "      <td> 118.50</td>\n",
        "      <td> 119.56</td>\n",
        "      <td> 1.06</td>\n",
        "      <td> 0.894515</td>\n",
        "    </tr>\n",
        "    <tr>\n",
        "      <th>1   </th>\n",
        "      <td> 118.50</td>\n",
        "      <td> 118.65</td>\n",
        "      <td> 0.15</td>\n",
        "      <td> 0.126582</td>\n",
        "    </tr>\n",
        "    <tr>\n",
        "      <th>2   </th>\n",
        "      <td> 118.05</td>\n",
        "      <td> 118.63</td>\n",
        "      <td> 0.58</td>\n",
        "      <td> 0.491317</td>\n",
        "    </tr>\n",
        "    <tr>\n",
        "      <th>3   </th>\n",
        "      <td> 118.40</td>\n",
        "      <td> 117.16</td>\n",
        "      <td>-1.24</td>\n",
        "      <td>-1.047297</td>\n",
        "    </tr>\n",
        "    <tr>\n",
        "      <th>4   </th>\n",
        "      <td> 116.32</td>\n",
        "      <td> 118.90</td>\n",
        "      <td> 2.58</td>\n",
        "      <td> 2.218019</td>\n",
        "    </tr>\n",
        "    <tr>\n",
        "      <th>5   </th>\n",
        "      <td> 117.63</td>\n",
        "      <td> 115.31</td>\n",
        "      <td>-2.32</td>\n",
        "      <td>-1.972286</td>\n",
        "    </tr>\n",
        "    <tr>\n",
        "      <th>6   </th>\n",
        "      <td> 112.42</td>\n",
        "      <td> 109.14</td>\n",
        "      <td>-3.28</td>\n",
        "      <td>-2.917630</td>\n",
        "    </tr>\n",
        "    <tr>\n",
        "      <th>7   </th>\n",
        "      <td> 113.74</td>\n",
        "      <td> 113.10</td>\n",
        "      <td>-0.64</td>\n",
        "      <td>-0.562687</td>\n",
        "    </tr>\n",
        "    <tr>\n",
        "      <th>8   </th>\n",
        "      <td> 112.30</td>\n",
        "      <td> 112.98</td>\n",
        "      <td> 0.68</td>\n",
        "      <td> 0.605521</td>\n",
        "    </tr>\n",
        "    <tr>\n",
        "      <th>9   </th>\n",
        "      <td> 110.26</td>\n",
        "      <td> 112.40</td>\n",
        "      <td> 2.14</td>\n",
        "      <td> 1.940867</td>\n",
        "    </tr>\n",
        "    <tr>\n",
        "      <th>10  </th>\n",
        "      <td> 108.95</td>\n",
        "      <td> 109.55</td>\n",
        "      <td> 0.60</td>\n",
        "      <td> 0.550711</td>\n",
        "    </tr>\n",
        "    <tr>\n",
        "      <th>11  </th>\n",
        "      <td> 107.84</td>\n",
        "      <td> 108.72</td>\n",
        "      <td> 0.88</td>\n",
        "      <td> 0.816024</td>\n",
        "    </tr>\n",
        "    <tr>\n",
        "      <th>12  </th>\n",
        "      <td> 107.03</td>\n",
        "      <td> 105.99</td>\n",
        "      <td>-1.04</td>\n",
        "      <td>-0.971690</td>\n",
        "    </tr>\n",
        "    <tr>\n",
        "      <th>13  </th>\n",
        "      <td> 110.00</td>\n",
        "      <td> 106.82</td>\n",
        "      <td>-3.18</td>\n",
        "      <td>-2.890909</td>\n",
        "    </tr>\n",
        "    <tr>\n",
        "      <th>14  </th>\n",
        "      <td> 109.04</td>\n",
        "      <td> 109.80</td>\n",
        "      <td> 0.76</td>\n",
        "      <td> 0.696992</td>\n",
        "    </tr>\n",
        "    <tr>\n",
        "      <th>15  </th>\n",
        "      <td> 111.43</td>\n",
        "      <td> 110.22</td>\n",
        "      <td>-1.21</td>\n",
        "      <td>-1.085884</td>\n",
        "    </tr>\n",
        "    <tr>\n",
        "      <th>16  </th>\n",
        "      <td> 112.60</td>\n",
        "      <td> 109.25</td>\n",
        "      <td>-3.35</td>\n",
        "      <td>-2.975133</td>\n",
        "    </tr>\n",
        "    <tr>\n",
        "      <th>17  </th>\n",
        "      <td> 112.67</td>\n",
        "      <td> 112.01</td>\n",
        "      <td>-0.66</td>\n",
        "      <td>-0.585781</td>\n",
        "    </tr>\n",
        "    <tr>\n",
        "      <th>18  </th>\n",
        "      <td> 109.23</td>\n",
        "      <td> 111.89</td>\n",
        "      <td> 2.66</td>\n",
        "      <td> 2.435228</td>\n",
        "    </tr>\n",
        "    <tr>\n",
        "      <th>19  </th>\n",
        "      <td> 107.20</td>\n",
        "      <td> 107.75</td>\n",
        "      <td> 0.55</td>\n",
        "      <td> 0.513060</td>\n",
        "    </tr>\n",
        "    <tr>\n",
        "      <th>20  </th>\n",
        "      <td> 106.54</td>\n",
        "      <td> 106.26</td>\n",
        "      <td>-0.28</td>\n",
        "      <td>-0.262812</td>\n",
        "    </tr>\n",
        "    <tr>\n",
        "      <th>21  </th>\n",
        "      <td> 108.29</td>\n",
        "      <td> 106.25</td>\n",
        "      <td>-2.04</td>\n",
        "      <td>-1.883830</td>\n",
        "    </tr>\n",
        "    <tr>\n",
        "      <th>22  </th>\n",
        "      <td> 111.39</td>\n",
        "      <td> 109.33</td>\n",
        "      <td>-2.06</td>\n",
        "      <td>-1.849358</td>\n",
        "    </tr>\n",
        "    <tr>\n",
        "      <th>23  </th>\n",
        "      <td> 112.82</td>\n",
        "      <td> 110.38</td>\n",
        "      <td>-2.44</td>\n",
        "      <td>-2.162737</td>\n",
        "    </tr>\n",
        "    <tr>\n",
        "      <th>24  </th>\n",
        "      <td> 113.64</td>\n",
        "      <td> 112.52</td>\n",
        "      <td>-1.12</td>\n",
        "      <td>-0.985568</td>\n",
        "    </tr>\n",
        "    <tr>\n",
        "      <th>25  </th>\n",
        "      <td> 113.79</td>\n",
        "      <td> 113.91</td>\n",
        "      <td> 0.12</td>\n",
        "      <td> 0.105457</td>\n",
        "    </tr>\n",
        "    <tr>\n",
        "      <th>26  </th>\n",
        "      <td> 112.10</td>\n",
        "      <td> 113.99</td>\n",
        "      <td> 1.89</td>\n",
        "      <td> 1.685995</td>\n",
        "    </tr>\n",
        "    <tr>\n",
        "      <th>27  </th>\n",
        "      <td> 112.58</td>\n",
        "      <td> 112.01</td>\n",
        "      <td>-0.57</td>\n",
        "      <td>-0.506307</td>\n",
        "    </tr>\n",
        "    <tr>\n",
        "      <th>28  </th>\n",
        "      <td> 113.23</td>\n",
        "      <td> 112.54</td>\n",
        "      <td>-0.69</td>\n",
        "      <td>-0.609379</td>\n",
        "    </tr>\n",
        "    <tr>\n",
        "      <th>29  </th>\n",
        "      <td> 112.16</td>\n",
        "      <td> 112.94</td>\n",
        "      <td> 0.78</td>\n",
        "      <td> 0.695435</td>\n",
        "    </tr>\n",
        "    <tr>\n",
        "      <th>...</th>\n",
        "      <td>...</td>\n",
        "      <td>...</td>\n",
        "      <td>...</td>\n",
        "      <td>...</td>\n",
        "    </tr>\n",
        "    <tr>\n",
        "      <th>1435</th>\n",
        "      <td> 124.05</td>\n",
        "      <td> 122.50</td>\n",
        "      <td>-1.55</td>\n",
        "      <td>-1.249496</td>\n",
        "    </tr>\n",
        "    <tr>\n",
        "      <th>1436</th>\n",
        "      <td> 125.15</td>\n",
        "      <td> 124.18</td>\n",
        "      <td>-0.97</td>\n",
        "      <td>-0.775070</td>\n",
        "    </tr>\n",
        "    <tr>\n",
        "      <th>1437</th>\n",
        "      <td> 127.63</td>\n",
        "      <td> 125.87</td>\n",
        "      <td>-1.76</td>\n",
        "      <td>-1.378986</td>\n",
        "    </tr>\n",
        "    <tr>\n",
        "      <th>1438</th>\n",
        "      <td> 126.82</td>\n",
        "      <td> 127.45</td>\n",
        "      <td> 0.63</td>\n",
        "      <td> 0.496767</td>\n",
        "    </tr>\n",
        "    <tr>\n",
        "      <th>1439</th>\n",
        "      <td> 123.73</td>\n",
        "      <td> 126.65</td>\n",
        "      <td> 2.92</td>\n",
        "      <td> 2.359977</td>\n",
        "    </tr>\n",
        "    <tr>\n",
        "      <th>1440</th>\n",
        "      <td> 122.32</td>\n",
        "      <td> 122.42</td>\n",
        "      <td> 0.10</td>\n",
        "      <td> 0.081753</td>\n",
        "    </tr>\n",
        "    <tr>\n",
        "      <th>1441</th>\n",
        "      <td> 119.78</td>\n",
        "      <td> 122.95</td>\n",
        "      <td> 3.17</td>\n",
        "      <td> 2.646519</td>\n",
        "    </tr>\n",
        "    <tr>\n",
        "      <th>1442</th>\n",
        "      <td> 123.21</td>\n",
        "      <td> 119.49</td>\n",
        "      <td>-3.72</td>\n",
        "      <td>-3.019235</td>\n",
        "    </tr>\n",
        "    <tr>\n",
        "      <th>1443</th>\n",
        "      <td> 129.56</td>\n",
        "      <td> 124.42</td>\n",
        "      <td>-5.14</td>\n",
        "      <td>-3.967274</td>\n",
        "    </tr>\n",
        "    <tr>\n",
        "      <th>1444</th>\n",
        "      <td> 127.37</td>\n",
        "      <td> 129.57</td>\n",
        "      <td> 2.20</td>\n",
        "      <td> 1.727251</td>\n",
        "    </tr>\n",
        "    <tr>\n",
        "      <th>1445</th>\n",
        "      <td> 129.04</td>\n",
        "      <td> 129.19</td>\n",
        "      <td> 0.15</td>\n",
        "      <td> 0.116243</td>\n",
        "    </tr>\n",
        "    <tr>\n",
        "      <th>1446</th>\n",
        "      <td> 132.33</td>\n",
        "      <td> 129.06</td>\n",
        "      <td>-3.27</td>\n",
        "      <td>-2.471095</td>\n",
        "    </tr>\n",
        "    <tr>\n",
        "      <th>1447</th>\n",
        "      <td> 133.33</td>\n",
        "      <td> 132.50</td>\n",
        "      <td>-0.83</td>\n",
        "      <td>-0.622516</td>\n",
        "    </tr>\n",
        "    <tr>\n",
        "      <th>1448</th>\n",
        "      <td> 131.75</td>\n",
        "      <td> 132.71</td>\n",
        "      <td> 0.96</td>\n",
        "      <td> 0.728653</td>\n",
        "    </tr>\n",
        "    <tr>\n",
        "      <th>1449</th>\n",
        "      <td> 128.24</td>\n",
        "      <td> 132.07</td>\n",
        "      <td> 3.83</td>\n",
        "      <td> 2.986588</td>\n",
        "    </tr>\n",
        "    <tr>\n",
        "      <th>1450</th>\n",
        "      <td> 125.80</td>\n",
        "      <td> 127.24</td>\n",
        "      <td> 1.44</td>\n",
        "      <td> 1.144674</td>\n",
        "    </tr>\n",
        "    <tr>\n",
        "      <th>1451</th>\n",
        "      <td> 126.22</td>\n",
        "      <td> 125.83</td>\n",
        "      <td>-0.39</td>\n",
        "      <td>-0.308984</td>\n",
        "    </tr>\n",
        "    <tr>\n",
        "      <th>1452</th>\n",
        "      <td> 124.85</td>\n",
        "      <td> 125.14</td>\n",
        "      <td> 0.29</td>\n",
        "      <td> 0.232279</td>\n",
        "    </tr>\n",
        "    <tr>\n",
        "      <th>1453</th>\n",
        "      <td> 123.35</td>\n",
        "      <td> 123.90</td>\n",
        "      <td> 0.55</td>\n",
        "      <td> 0.445886</td>\n",
        "    </tr>\n",
        "    <tr>\n",
        "      <th>1454</th>\n",
        "      <td> 122.90</td>\n",
        "      <td> 124.73</td>\n",
        "      <td> 1.83</td>\n",
        "      <td> 1.489015</td>\n",
        "    </tr>\n",
        "    <tr>\n",
        "      <th>1455</th>\n",
        "      <td> 124.64</td>\n",
        "      <td> 123.90</td>\n",
        "      <td>-0.74</td>\n",
        "      <td>-0.593710</td>\n",
        "    </tr>\n",
        "    <tr>\n",
        "      <th>1456</th>\n",
        "      <td> 126.62</td>\n",
        "      <td> 125.40</td>\n",
        "      <td>-1.22</td>\n",
        "      <td>-0.963513</td>\n",
        "    </tr>\n",
        "    <tr>\n",
        "      <th>1457</th>\n",
        "      <td> 122.63</td>\n",
        "      <td> 121.51</td>\n",
        "      <td>-1.12</td>\n",
        "      <td>-0.913316</td>\n",
        "    </tr>\n",
        "    <tr>\n",
        "      <th>1458</th>\n",
        "      <td> 118.89</td>\n",
        "      <td> 121.76</td>\n",
        "      <td> 2.87</td>\n",
        "      <td> 2.413996</td>\n",
        "    </tr>\n",
        "    <tr>\n",
        "      <th>1459</th>\n",
        "      <td> 121.73</td>\n",
        "      <td> 120.50</td>\n",
        "      <td>-1.23</td>\n",
        "      <td>-1.010433</td>\n",
        "    </tr>\n",
        "    <tr>\n",
        "      <th>1460</th>\n",
        "      <td> 121.18</td>\n",
        "      <td> 123.42</td>\n",
        "      <td> 2.24</td>\n",
        "      <td> 1.848490</td>\n",
        "    </tr>\n",
        "    <tr>\n",
        "      <th>1461</th>\n",
        "      <td> 119.19</td>\n",
        "      <td> 121.45</td>\n",
        "      <td> 2.26</td>\n",
        "      <td> 1.896132</td>\n",
        "    </tr>\n",
        "    <tr>\n",
        "      <th>1462</th>\n",
        "      <td> 117.20</td>\n",
        "      <td> 117.64</td>\n",
        "      <td> 0.44</td>\n",
        "      <td> 0.375427</td>\n",
        "    </tr>\n",
        "    <tr>\n",
        "      <th>1463</th>\n",
        "      <td> 119.57</td>\n",
        "      <td> 118.31</td>\n",
        "      <td>-1.26</td>\n",
        "      <td>-1.053776</td>\n",
        "    </tr>\n",
        "    <tr>\n",
        "      <th>1464</th>\n",
        "      <td> 120.01</td>\n",
        "      <td> 120.22</td>\n",
        "      <td> 0.21</td>\n",
        "      <td> 0.174985</td>\n",
        "    </tr>\n",
        "  </tbody>\n",
        "</table>\n",
        "<p>1465 rows \u00d7 4 columns</p>\n",
        "</div>"
       ],
       "metadata": {},
       "output_type": "pyout",
       "prompt_number": 57,
       "text": [
        "        Open   Close  change   percent\n",
        "0     118.50  119.56    1.06  0.894515\n",
        "1     118.50  118.65    0.15  0.126582\n",
        "2     118.05  118.63    0.58  0.491317\n",
        "3     118.40  117.16   -1.24 -1.047297\n",
        "4     116.32  118.90    2.58  2.218019\n",
        "5     117.63  115.31   -2.32 -1.972286\n",
        "6     112.42  109.14   -3.28 -2.917630\n",
        "7     113.74  113.10   -0.64 -0.562687\n",
        "8     112.30  112.98    0.68  0.605521\n",
        "9     110.26  112.40    2.14  1.940867\n",
        "10    108.95  109.55    0.60  0.550711\n",
        "11    107.84  108.72    0.88  0.816024\n",
        "12    107.03  105.99   -1.04 -0.971690\n",
        "13    110.00  106.82   -3.18 -2.890909\n",
        "14    109.04  109.80    0.76  0.696992\n",
        "15    111.43  110.22   -1.21 -1.085884\n",
        "16    112.60  109.25   -3.35 -2.975133\n",
        "17    112.67  112.01   -0.66 -0.585781\n",
        "18    109.23  111.89    2.66  2.435228\n",
        "19    107.20  107.75    0.55  0.513060\n",
        "20    106.54  106.26   -0.28 -0.262812\n",
        "21    108.29  106.25   -2.04 -1.883830\n",
        "22    111.39  109.33   -2.06 -1.849358\n",
        "23    112.82  110.38   -2.44 -2.162737\n",
        "24    113.64  112.52   -1.12 -0.985568\n",
        "25    113.79  113.91    0.12  0.105457\n",
        "26    112.10  113.99    1.89  1.685995\n",
        "27    112.58  112.01   -0.57 -0.506307\n",
        "28    113.23  112.54   -0.69 -0.609379\n",
        "29    112.16  112.94    0.78  0.695435\n",
        "...      ...     ...     ...       ...\n",
        "1435  124.05  122.50   -1.55 -1.249496\n",
        "1436  125.15  124.18   -0.97 -0.775070\n",
        "1437  127.63  125.87   -1.76 -1.378986\n",
        "1438  126.82  127.45    0.63  0.496767\n",
        "1439  123.73  126.65    2.92  2.359977\n",
        "1440  122.32  122.42    0.10  0.081753\n",
        "1441  119.78  122.95    3.17  2.646519\n",
        "1442  123.21  119.49   -3.72 -3.019235\n",
        "1443  129.56  124.42   -5.14 -3.967274\n",
        "1444  127.37  129.57    2.20  1.727251\n",
        "1445  129.04  129.19    0.15  0.116243\n",
        "1446  132.33  129.06   -3.27 -2.471095\n",
        "1447  133.33  132.50   -0.83 -0.622516\n",
        "1448  131.75  132.71    0.96  0.728653\n",
        "1449  128.24  132.07    3.83  2.986588\n",
        "1450  125.80  127.24    1.44  1.144674\n",
        "1451  126.22  125.83   -0.39 -0.308984\n",
        "1452  124.85  125.14    0.29  0.232279\n",
        "1453  123.35  123.90    0.55  0.445886\n",
        "1454  122.90  124.73    1.83  1.489015\n",
        "1455  124.64  123.90   -0.74 -0.593710\n",
        "1456  126.62  125.40   -1.22 -0.963513\n",
        "1457  122.63  121.51   -1.12 -0.913316\n",
        "1458  118.89  121.76    2.87  2.413996\n",
        "1459  121.73  120.50   -1.23 -1.010433\n",
        "1460  121.18  123.42    2.24  1.848490\n",
        "1461  119.19  121.45    2.26  1.896132\n",
        "1462  117.20  117.64    0.44  0.375427\n",
        "1463  119.57  118.31   -1.26 -1.053776\n",
        "1464  120.01  120.22    0.21  0.174985\n",
        "\n",
        "[1465 rows x 4 columns]"
       ]
      }
     ],
     "prompt_number": 57
    },
    {
     "cell_type": "code",
     "collapsed": false,
     "input": [
      "for corp in corplist:\n",
      "    # Creates histogram for each year\n",
      "    temp = EODRef[corp][\"percent\"]\n",
      "    temp.hist(bins=60, color = 'black')\n",
      "    plt.title(corp)\n",
      "    plt.show()\n",
      "    print \"Expected Return: %.6f\" % temp.mean()\n",
      "    temp2 = temp.abs()\n",
      "    print \"Expected Change: %.6f\" % temp2.mean()"
     ],
     "language": "python",
     "metadata": {},
     "outputs": [
      {
       "metadata": {},
       "output_type": "display_data",
       "png": "[encoded data removed]",
       "text": [
        "<matplotlib.figure.Figure at 0x18a63eb8>"
       ]
      },
      {
       "output_type": "stream",
       "stream": "stdout",
       "text": [
        "Expected Return: -0.023360\n",
        "Expected Change: 1.029457\n"
       ]
      },
      {
       "metadata": {},
       "output_type": "display_data",
       "png": "[encoded data removed]",
       "text": [
        "<matplotlib.figure.Figure at 0x171335f8>"
       ]
      },
      {
       "output_type": "stream",
       "stream": "stdout",
       "text": [
        "Expected Return: 0.052371\n",
        "Expected Change: 0.691551\n"
       ]
      },
      {
       "metadata": {},
       "output_type": "display_data",
       "png": "[encoded data removed]",
       "text": [
        "<matplotlib.figure.Figure at 0x18a59da0>"
       ]
      },
      {
       "output_type": "stream",
       "stream": "stdout",
       "text": [
        "Expected Return: -0.018869\n",
        "Expected Change: 0.856122\n"
       ]
      },
      {
       "metadata": {},
       "output_type": "display_data",
       "png": "[encoded data removed]",
       "text": [
        "<matplotlib.figure.Figure at 0x186c0ef0>"
       ]
      },
      {
       "output_type": "stream",
       "stream": "stdout",
       "text": [
        "Expected Return: -0.131333\n",
        "Expected Change: 0.922865\n"
       ]
      },
      {
       "metadata": {},
       "output_type": "display_data",
       "png": "[encoded data removed]",
       "text": [
        "<matplotlib.figure.Figure at 0x186bb668>"
       ]
      },
      {
       "output_type": "stream",
       "stream": "stdout",
       "text": [
        "Expected Return: 0.050354\n",
        "Expected Change: 0.859824\n"
       ]
      },
      {
       "metadata": {},
       "output_type": "display_data",
       "png": "[encoded data removed]",
       "text": [
        "<matplotlib.figure.Figure at 0x16515be0>"
       ]
      },
      {
       "output_type": "stream",
       "stream": "stdout",
       "text": [
        "Expected Return: 0.025246\n",
        "Expected Change: 0.544577\n"
       ]
      },
      {
       "metadata": {},
       "output_type": "display_data",
       "png": "[encoded data removed]",
       "text": [
        "<matplotlib.figure.Figure at 0x16515208>"
       ]
      },
      {
       "output_type": "stream",
       "stream": "stdout",
       "text": [
        "Expected Return: 0.046718\n",
        "Expected Change: 0.596902\n"
       ]
      },
      {
       "metadata": {},
       "output_type": "display_data",
       "png": "[encoded data removed]",
       "text": [
        "<matplotlib.figure.Figure at 0x17bcd518>"
       ]
      },
      {
       "output_type": "stream",
       "stream": "stdout",
       "text": [
        "Expected Return: 0.074730\n",
        "Expected Change: 1.158632\n"
       ]
      },
      {
       "metadata": {},
       "output_type": "display_data",
       "png": "[encoded data removed]",
       "text": [
        "<matplotlib.figure.Figure at 0x18598d68>"
       ]
      },
      {
       "output_type": "stream",
       "stream": "stdout",
       "text": [
        "Expected Return: -0.037288\n",
        "Expected Change: 0.902726\n"
       ]
      },
      {
       "metadata": {},
       "output_type": "display_data",
       "png": "[encoded data removed]",
       "text": [
        "<matplotlib.figure.Figure at 0x168c1128>"
       ]
      },
      {
       "output_type": "stream",
       "stream": "stdout",
       "text": [
        "Expected Return: 0.024233\n",
        "Expected Change: 0.507990\n"
       ]
      },
      {
       "metadata": {},
       "output_type": "display_data",
       "png": "[encoded data removed]",
       "text": [
        "<matplotlib.figure.Figure at 0x17dc2780>"
       ]
      },
      {
       "output_type": "stream",
       "stream": "stdout",
       "text": [
        "Expected Return: -0.233909\n",
        "Expected Change: 1.507649\n"
       ]
      },
      {
       "metadata": {},
       "output_type": "display_data",
       "png": "[encoded data removed]",
       "text": [
        "<matplotlib.figure.Figure at 0x177de0f0>"
       ]
      },
      {
       "output_type": "stream",
       "stream": "stdout",
       "text": [
        "Expected Return: 0.021006\n",
        "Expected Change: 1.174390\n"
       ]
      },
      {
       "metadata": {},
       "output_type": "display_data",
       "png": "[encoded data removed]",
       "text": [
        "<matplotlib.figure.Figure at 0x1685fe10>"
       ]
      },
      {
       "output_type": "stream",
       "stream": "stdout",
       "text": [
        "Expected Return: -0.102651\n",
        "Expected Change: 1.696615\n"
       ]
      },
      {
       "metadata": {},
       "output_type": "display_data",
       "png": "[encoded data removed]",
       "text": [
        "<matplotlib.figure.Figure at 0x18b3ff98>"
       ]
      },
      {
       "output_type": "stream",
       "stream": "stdout",
       "text": [
        "Expected Return: 0.004404\n",
        "Expected Change: 0.769142\n"
       ]
      },
      {
       "metadata": {},
       "output_type": "display_data",
       "png": "[encoded data removed]",
       "text": [
        "<matplotlib.figure.Figure at 0x18286588>"
       ]
      },
      {
       "output_type": "stream",
       "stream": "stdout",
       "text": [
        "Expected Return: 0.024409\n",
        "Expected Change: 0.767250\n"
       ]
      },
      {
       "metadata": {},
       "output_type": "display_data",
       "png": "[encoded data removed]",
       "text": [
        "<matplotlib.figure.Figure at 0x168a1da0>"
       ]
      },
      {
       "output_type": "stream",
       "stream": "stdout",
       "text": [
        "Expected Return: 0.024703\n",
        "Expected Change: 0.565097\n"
       ]
      },
      {
       "metadata": {},
       "output_type": "display_data",
       "png": "[encoded data removed]",
       "text": [
        "<matplotlib.figure.Figure at 0x168a1dd8>"
       ]
      },
      {
       "output_type": "stream",
       "stream": "stdout",
       "text": [
        "Expected Return: 0.102133\n",
        "Expected Change: 0.707236\n"
       ]
      },
      {
       "metadata": {},
       "output_type": "display_data",
       "png": "[encoded data removed]",
       "text": [
        "<matplotlib.figure.Figure at 0x167b2c18>"
       ]
      },
      {
       "output_type": "stream",
       "stream": "stdout",
       "text": [
        "Expected Return: 0.039086\n",
        "Expected Change: 0.790214\n"
       ]
      }
     ],
     "prompt_number": 54
    },
    {
     "cell_type": "code",
     "collapsed": false,
     "input": [],
     "language": "python",
     "metadata": {},
     "outputs": []
    }
   ],
   "metadata": {}
  }
 ]
}